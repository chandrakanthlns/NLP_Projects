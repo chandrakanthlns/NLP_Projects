{
 "cells": [
  {
   "cell_type": "markdown",
   "metadata": {},
   "source": [
    "### Rapid Automatic Keyword Extraction (RAKE)\n",
    "\n",
    "* https://pypi.org/project/rake-nltk/"
   ]
  },
  {
   "cell_type": "code",
   "execution_count": 32,
   "metadata": {},
   "outputs": [
    {
     "name": "stdout",
     "output_type": "stream",
     "text": [
      "Requirement already satisfied: nltk in /anaconda3/lib/python3.7/site-packages (3.4)\n",
      "Requirement already satisfied: six in /anaconda3/lib/python3.7/site-packages (from nltk) (1.12.0)\n",
      "Requirement already satisfied: singledispatch in /anaconda3/lib/python3.7/site-packages (from nltk) (3.4.0.3)\n"
     ]
    }
   ],
   "source": [
    "!pip install nltk"
   ]
  },
  {
   "cell_type": "code",
   "execution_count": 33,
   "metadata": {},
   "outputs": [
    {
     "name": "stderr",
     "output_type": "stream",
     "text": [
      "[nltk_data] Downloading package punkt to /Users/loonycorn/nltk_data...\n",
      "[nltk_data]   Package punkt is already up-to-date!\n"
     ]
    },
    {
     "data": {
      "text/plain": [
       "True"
      ]
     },
     "execution_count": 33,
     "metadata": {},
     "output_type": "execute_result"
    }
   ],
   "source": [
    "import nltk\n",
    "\n",
    "nltk.download('punkt')"
   ]
  },
  {
   "cell_type": "code",
   "execution_count": 34,
   "metadata": {},
   "outputs": [
    {
     "name": "stdout",
     "output_type": "stream",
     "text": [
      "Requirement already satisfied: rake-nltk in /anaconda3/lib/python3.7/site-packages (1.0.4)\r\n",
      "Requirement already satisfied: nltk in /anaconda3/lib/python3.7/site-packages (from rake-nltk) (3.4)\r\n",
      "Requirement already satisfied: six in /anaconda3/lib/python3.7/site-packages (from nltk->rake-nltk) (1.12.0)\r\n",
      "Requirement already satisfied: singledispatch in /anaconda3/lib/python3.7/site-packages (from nltk->rake-nltk) (3.4.0.3)\r\n"
     ]
    }
   ],
   "source": [
    "!pip install rake-nltk"
   ]
  },
  {
   "cell_type": "code",
   "execution_count": 61,
   "metadata": {},
   "outputs": [],
   "source": [
    "import pandas as pd\n",
    "\n",
    "from rake_nltk import Metric, Rake"
   ]
  },
  {
   "cell_type": "code",
   "execution_count": 36,
   "metadata": {},
   "outputs": [],
   "source": [
    "text_array = [\"Be yourself; everyone else is already taken.\",\n",
    "              \"A room without books is like a body without a soul.\",\n",
    "              \"Be the change that you wish to see in the world.\",\n",
    "              \"If you tell the truth, you don't have to remember anything.\",\n",
    "              \"Always forgive your enemies; nothing annoys them so much.\",\n",
    "              \"In three words I can sum up everything I've learned about life: it goes on.\",\n",
    "              \"Live as if you were to die tomorrow. Learn as if you were to live forever.\",\n",
    "              \"It is better to be hated for what you are than to be loved for what you are not.\",\n",
    "              \"It does not do to dwell on dreams and forget to live.\"\n",
    "             ]"
   ]
  },
  {
   "cell_type": "code",
   "execution_count": 37,
   "metadata": {},
   "outputs": [],
   "source": [
    "rake = Rake()"
   ]
  },
  {
   "cell_type": "code",
   "execution_count": 38,
   "metadata": {},
   "outputs": [],
   "source": [
    "rake.extract_keywords_from_sentences(text_array)"
   ]
  },
  {
   "cell_type": "code",
   "execution_count": 39,
   "metadata": {},
   "outputs": [
    {
     "data": {
      "text/plain": [
       "['room without books',\n",
       " 'body without',\n",
       " 'three words',\n",
       " 'remember anything',\n",
       " 'nothing annoys',\n",
       " 'everyone else',\n",
       " 'die tomorrow',\n",
       " 'always forgive',\n",
       " 'already taken',\n",
       " 'live forever',\n",
       " 'live',\n",
       " 'world',\n",
       " 'wish',\n",
       " 'truth',\n",
       " 'tell',\n",
       " 'sum',\n",
       " 'soul',\n",
       " 'see',\n",
       " 'much',\n",
       " 'loved',\n",
       " 'like',\n",
       " 'life',\n",
       " 'learned',\n",
       " 'learn',\n",
       " 'hated',\n",
       " 'goes',\n",
       " 'forget',\n",
       " 'everything',\n",
       " 'enemies',\n",
       " 'dwell',\n",
       " 'dreams',\n",
       " 'change',\n",
       " 'better']"
      ]
     },
     "execution_count": 39,
     "metadata": {},
     "output_type": "execute_result"
    }
   ],
   "source": [
    "rake.get_ranked_phrases()"
   ]
  },
  {
   "cell_type": "code",
   "execution_count": 40,
   "metadata": {},
   "outputs": [
    {
     "data": {
      "text/plain": [
       "[(8.5, 'room without books'),\n",
       " (4.5, 'body without'),\n",
       " (4.0, 'three words'),\n",
       " (4.0, 'remember anything'),\n",
       " (4.0, 'nothing annoys'),\n",
       " (4.0, 'everyone else'),\n",
       " (4.0, 'die tomorrow'),\n",
       " (4.0, 'always forgive'),\n",
       " (4.0, 'already taken'),\n",
       " (3.5, 'live forever'),\n",
       " (1.5, 'live'),\n",
       " (1.0, 'world'),\n",
       " (1.0, 'wish'),\n",
       " (1.0, 'truth'),\n",
       " (1.0, 'tell'),\n",
       " (1.0, 'sum'),\n",
       " (1.0, 'soul'),\n",
       " (1.0, 'see'),\n",
       " (1.0, 'much'),\n",
       " (1.0, 'loved'),\n",
       " (1.0, 'like'),\n",
       " (1.0, 'life'),\n",
       " (1.0, 'learned'),\n",
       " (1.0, 'learn'),\n",
       " (1.0, 'hated'),\n",
       " (1.0, 'goes'),\n",
       " (1.0, 'forget'),\n",
       " (1.0, 'everything'),\n",
       " (1.0, 'enemies'),\n",
       " (1.0, 'dwell'),\n",
       " (1.0, 'dreams'),\n",
       " (1.0, 'change'),\n",
       " (1.0, 'better')]"
      ]
     },
     "execution_count": 40,
     "metadata": {},
     "output_type": "execute_result"
    }
   ],
   "source": [
    "rake.get_ranked_phrases_with_scores()"
   ]
  },
  {
   "cell_type": "code",
   "execution_count": 41,
   "metadata": {},
   "outputs": [
    {
     "data": {
      "text/plain": [
       "Counter({'everything': 1,\n",
       "         'wish': 1,\n",
       "         'enemies': 1,\n",
       "         'much': 1,\n",
       "         'live': 2,\n",
       "         'forever': 1,\n",
       "         'like': 1,\n",
       "         'already': 1,\n",
       "         'taken': 1,\n",
       "         'room': 1,\n",
       "         'without': 2,\n",
       "         'books': 1,\n",
       "         'three': 1,\n",
       "         'words': 1,\n",
       "         'truth': 1,\n",
       "         'tell': 1,\n",
       "         'see': 1,\n",
       "         'dwell': 1,\n",
       "         'better': 1,\n",
       "         'goes': 1,\n",
       "         'hated': 1,\n",
       "         'nothing': 1,\n",
       "         'annoys': 1,\n",
       "         'loved': 1,\n",
       "         'body': 1,\n",
       "         'remember': 1,\n",
       "         'anything': 1,\n",
       "         'always': 1,\n",
       "         'forgive': 1,\n",
       "         'soul': 1,\n",
       "         'die': 1,\n",
       "         'tomorrow': 1,\n",
       "         'learned': 1,\n",
       "         'change': 1,\n",
       "         'sum': 1,\n",
       "         'life': 1,\n",
       "         'learn': 1,\n",
       "         'forget': 1,\n",
       "         'everyone': 1,\n",
       "         'else': 1,\n",
       "         'world': 1,\n",
       "         'dreams': 1})"
      ]
     },
     "execution_count": 41,
     "metadata": {},
     "output_type": "execute_result"
    }
   ],
   "source": [
    "rake.get_word_frequency_distribution()"
   ]
  },
  {
   "cell_type": "code",
   "execution_count": 42,
   "metadata": {},
   "outputs": [
    {
     "data": {
      "text/plain": [
       "defaultdict(<function rake_nltk.rake.Rake._build_word_co_occurance_graph.<locals>.<lambda>()>,\n",
       "            {'everything': 1,\n",
       "             'wish': 1,\n",
       "             'enemies': 1,\n",
       "             'much': 1,\n",
       "             'live': 3,\n",
       "             'forever': 2,\n",
       "             'like': 1,\n",
       "             'already': 2,\n",
       "             'taken': 2,\n",
       "             'room': 3,\n",
       "             'without': 5,\n",
       "             'books': 3,\n",
       "             'three': 2,\n",
       "             'words': 2,\n",
       "             'truth': 1,\n",
       "             'tell': 1,\n",
       "             'see': 1,\n",
       "             'dwell': 1,\n",
       "             'better': 1,\n",
       "             'goes': 1,\n",
       "             'hated': 1,\n",
       "             'nothing': 2,\n",
       "             'annoys': 2,\n",
       "             'loved': 1,\n",
       "             'body': 2,\n",
       "             'remember': 2,\n",
       "             'anything': 2,\n",
       "             'always': 2,\n",
       "             'forgive': 2,\n",
       "             'soul': 1,\n",
       "             'die': 2,\n",
       "             'tomorrow': 2,\n",
       "             'learned': 1,\n",
       "             'change': 1,\n",
       "             'sum': 1,\n",
       "             'life': 1,\n",
       "             'learn': 1,\n",
       "             'forget': 1,\n",
       "             'everyone': 2,\n",
       "             'else': 2,\n",
       "             'world': 1,\n",
       "             'dreams': 1})"
      ]
     },
     "execution_count": 42,
     "metadata": {},
     "output_type": "execute_result"
    }
   ],
   "source": [
    "rake.get_word_degrees()"
   ]
  },
  {
   "cell_type": "code",
   "execution_count": 67,
   "metadata": {},
   "outputs": [
    {
     "data": {
      "text/plain": [
       "[(4.0, 'room without books'),\n",
       " (3.0, 'live forever'),\n",
       " (3.0, 'body without'),\n",
       " (2.0, 'three words'),\n",
       " (2.0, 'remember anything'),\n",
       " (2.0, 'nothing annoys'),\n",
       " (2.0, 'live'),\n",
       " (2.0, 'everyone else'),\n",
       " (2.0, 'die tomorrow'),\n",
       " (2.0, 'always forgive'),\n",
       " (2.0, 'already taken'),\n",
       " (1.0, 'world'),\n",
       " (1.0, 'wish'),\n",
       " (1.0, 'truth'),\n",
       " (1.0, 'tell'),\n",
       " (1.0, 'sum'),\n",
       " (1.0, 'soul'),\n",
       " (1.0, 'see'),\n",
       " (1.0, 'much'),\n",
       " (1.0, 'loved'),\n",
       " (1.0, 'like'),\n",
       " (1.0, 'life'),\n",
       " (1.0, 'learned'),\n",
       " (1.0, 'learn'),\n",
       " (1.0, 'hated'),\n",
       " (1.0, 'goes'),\n",
       " (1.0, 'forget'),\n",
       " (1.0, 'everything'),\n",
       " (1.0, 'enemies'),\n",
       " (1.0, 'dwell'),\n",
       " (1.0, 'dreams'),\n",
       " (1.0, 'change'),\n",
       " (1.0, 'better')]"
      ]
     },
     "execution_count": 67,
     "metadata": {},
     "output_type": "execute_result"
    }
   ],
   "source": [
    "rake = Rake(ranking_metric=Metric.WORD_FREQUENCY)\n",
    "\n",
    "rake.extract_keywords_from_sentences(text_array)\n",
    "\n",
    "rake.get_ranked_phrases_with_scores()"
   ]
  },
  {
   "cell_type": "code",
   "execution_count": 68,
   "metadata": {},
   "outputs": [
    {
     "data": {
      "text/plain": [
       "[(11.0, 'room without books'),\n",
       " (7.0, 'body without'),\n",
       " (5.0, 'live forever'),\n",
       " (4.0, 'three words'),\n",
       " (4.0, 'remember anything'),\n",
       " (4.0, 'nothing annoys'),\n",
       " (4.0, 'everyone else'),\n",
       " (4.0, 'die tomorrow'),\n",
       " (4.0, 'always forgive'),\n",
       " (4.0, 'already taken'),\n",
       " (3.0, 'live'),\n",
       " (1.0, 'world'),\n",
       " (1.0, 'wish'),\n",
       " (1.0, 'truth'),\n",
       " (1.0, 'tell'),\n",
       " (1.0, 'sum'),\n",
       " (1.0, 'soul'),\n",
       " (1.0, 'see'),\n",
       " (1.0, 'much'),\n",
       " (1.0, 'loved'),\n",
       " (1.0, 'like'),\n",
       " (1.0, 'life'),\n",
       " (1.0, 'learned'),\n",
       " (1.0, 'learn'),\n",
       " (1.0, 'hated'),\n",
       " (1.0, 'goes'),\n",
       " (1.0, 'forget'),\n",
       " (1.0, 'everything'),\n",
       " (1.0, 'enemies'),\n",
       " (1.0, 'dwell'),\n",
       " (1.0, 'dreams'),\n",
       " (1.0, 'change'),\n",
       " (1.0, 'better')]"
      ]
     },
     "execution_count": 68,
     "metadata": {},
     "output_type": "execute_result"
    }
   ],
   "source": [
    "rake = Rake(ranking_metric=Metric.WORD_DEGREE)\n",
    "\n",
    "rake.extract_keywords_from_sentences(text_array)\n",
    "\n",
    "rake.get_ranked_phrases_with_scores()"
   ]
  },
  {
   "cell_type": "code",
   "execution_count": null,
   "metadata": {},
   "outputs": [],
   "source": []
  },
  {
   "cell_type": "code",
   "execution_count": 43,
   "metadata": {},
   "outputs": [],
   "source": [
    "dbpedia_df = pd.read_csv('./datasets/dbpedia_csv/train.csv', \n",
    "                         skiprows=1, names = ['Label', 'Name', 'Text'])"
   ]
  },
  {
   "cell_type": "code",
   "execution_count": 44,
   "metadata": {
    "scrolled": true
   },
   "outputs": [
    {
     "data": {
      "text/plain": [
       "(559999, 3)"
      ]
     },
     "execution_count": 44,
     "metadata": {},
     "output_type": "execute_result"
    }
   ],
   "source": [
    "dbpedia_df.shape"
   ]
  },
  {
   "cell_type": "code",
   "execution_count": 47,
   "metadata": {},
   "outputs": [],
   "source": [
    "NUM_SAMPLES = 10000\n",
    "\n",
    "dbpedia_df = dbpedia_df.sample(NUM_SAMPLES, replace=False).reset_index(drop=True)"
   ]
  },
  {
   "cell_type": "code",
   "execution_count": 48,
   "metadata": {},
   "outputs": [
    {
     "data": {
      "text/html": [
       "<div>\n",
       "<style scoped>\n",
       "    .dataframe tbody tr th:only-of-type {\n",
       "        vertical-align: middle;\n",
       "    }\n",
       "\n",
       "    .dataframe tbody tr th {\n",
       "        vertical-align: top;\n",
       "    }\n",
       "\n",
       "    .dataframe thead th {\n",
       "        text-align: right;\n",
       "    }\n",
       "</style>\n",
       "<table border=\"1\" class=\"dataframe\">\n",
       "  <thead>\n",
       "    <tr style=\"text-align: right;\">\n",
       "      <th></th>\n",
       "      <th>Label</th>\n",
       "      <th>Name</th>\n",
       "      <th>Text</th>\n",
       "    </tr>\n",
       "  </thead>\n",
       "  <tbody>\n",
       "    <tr>\n",
       "      <th>0</th>\n",
       "      <td>13</td>\n",
       "      <td>Pencil (film)</td>\n",
       "      <td>Pencil is an upcoming Tamil film directed by ...</td>\n",
       "    </tr>\n",
       "    <tr>\n",
       "      <th>1</th>\n",
       "      <td>13</td>\n",
       "      <td>The Great King</td>\n",
       "      <td>The Great King (German: Der große König) is a...</td>\n",
       "    </tr>\n",
       "    <tr>\n",
       "      <th>2</th>\n",
       "      <td>2</td>\n",
       "      <td>Hopkinsville Community College</td>\n",
       "      <td>Hopkinsville Community College (HCC) located ...</td>\n",
       "    </tr>\n",
       "    <tr>\n",
       "      <th>3</th>\n",
       "      <td>5</td>\n",
       "      <td>Mathew Kavukattu</td>\n",
       "      <td>Mar Mathew Kavukattu (July 17 1904 – October ...</td>\n",
       "    </tr>\n",
       "    <tr>\n",
       "      <th>4</th>\n",
       "      <td>3</td>\n",
       "      <td>Mike Lindup</td>\n",
       "      <td>Mike Lindup (born Michael Lindup 17 March 195...</td>\n",
       "    </tr>\n",
       "  </tbody>\n",
       "</table>\n",
       "</div>"
      ],
      "text/plain": [
       "   Label                            Name  \\\n",
       "0     13                   Pencil (film)   \n",
       "1     13                  The Great King   \n",
       "2      2  Hopkinsville Community College   \n",
       "3      5                Mathew Kavukattu   \n",
       "4      3                     Mike Lindup   \n",
       "\n",
       "                                                Text  \n",
       "0   Pencil is an upcoming Tamil film directed by ...  \n",
       "1   The Great King (German: Der große König) is a...  \n",
       "2   Hopkinsville Community College (HCC) located ...  \n",
       "3   Mar Mathew Kavukattu (July 17 1904 – October ...  \n",
       "4   Mike Lindup (born Michael Lindup 17 March 195...  "
      ]
     },
     "execution_count": 48,
     "metadata": {},
     "output_type": "execute_result"
    }
   ],
   "source": [
    "dbpedia_df.head()"
   ]
  },
  {
   "cell_type": "markdown",
   "metadata": {},
   "source": [
    "### Label 12: 'Album'"
   ]
  },
  {
   "cell_type": "code",
   "execution_count": 46,
   "metadata": {},
   "outputs": [],
   "source": [
    "def get_documents_for_topic(df, label):\n",
    "    \n",
    "    topic_df = df.loc[df['Label'] == label_of_interest]\n",
    "    print(topic_df.head(5))\n",
    "    \n",
    "    text = \"\\n\".join(topic_df['Text'])\n",
    "\n",
    "    return text"
   ]
  },
  {
   "cell_type": "code",
   "execution_count": 49,
   "metadata": {},
   "outputs": [
    {
     "name": "stdout",
     "output_type": "stream",
     "text": [
      "    Label                    Name  \\\n",
      "5      12              Bittertown   \n",
      "8      12                Totentag   \n",
      "16     12           1011 Woodland   \n",
      "51     12      Any Man in America   \n",
      "70     12  Re (Café Tacuba album)   \n",
      "\n",
      "                                                 Text  \n",
      "5    Bittertown is the fourth album released by co...  \n",
      "8    Totentag is an electronic opera and the twent...  \n",
      "16   1011 Woodland is the eighth studio album by B...  \n",
      "51   Any Man in America is the sixth studio album ...  \n",
      "70   Re was Café Tacuba's second and perhaps most ...  \n"
     ]
    }
   ],
   "source": [
    "label_of_interest = 12\n",
    "\n",
    "data = get_documents_for_topic(dbpedia_df, label_of_interest)"
   ]
  },
  {
   "cell_type": "markdown",
   "metadata": {},
   "source": [
    "#### get_phrase_score\n",
    "* Defining the maximum length of the keyword phrase, smaller number doesn't give sensible output\n",
    "* Extracting keyword from text\n",
    "* Printing out the phrases according to rank"
   ]
  },
  {
   "cell_type": "code",
   "execution_count": 55,
   "metadata": {},
   "outputs": [],
   "source": [
    "import pprint\n",
    "pp = pprint.PrettyPrinter(indent=4)\n",
    "\n",
    "def get_top_phrases(data, max_length=15):\n",
    "    \n",
    "    r = Rake(max_length = max_length)\n",
    "    r.extract_keywords_from_text(data)\n",
    "\n",
    "    pp.pprint(r.get_ranked_phrases_with_scores()[:20])"
   ]
  },
  {
   "cell_type": "code",
   "execution_count": 56,
   "metadata": {},
   "outputs": [
    {
     "name": "stdout",
     "output_type": "stream",
     "text": [
      "[   (   145.48127289377288,\n",
      "        'album features greatest hits like revoluções por minuto alvorada '\n",
      "        'voraz rádio pirata sete mares'),\n",
      "    (   135.96666666666667,\n",
      "        'tricky stewart terius dream nash neo da matrix timbaland carl sturken '\n",
      "        'evan rogers'),\n",
      "    (   128.80952380952382,\n",
      "        'harmony gucci mane young jeezy ginuwine twista ludacris pastor troy '\n",
      "        'keith murray g'),\n",
      "    (   86.25,\n",
      "        'highlight bringing doces bárbaros caetano veloso gilberto gil gal '\n",
      "        'costa'),\n",
      "    (   84.54277056277057,\n",
      "        'lead vocalist deborah conway drummer dorland bray bass guitarist '\n",
      "        'helen carter'),\n",
      "    (   83.08333333333333,\n",
      "        'neptunes john hill wyclef jean lukas burton future cut jerry '\n",
      "        'duplessis'),\n",
      "    (   74.05985209758795,\n",
      "        'puerto rican salsa group el gran combo de puerto rico'),\n",
      "    (   71.73333333333333,\n",
      "        'moen jared anderson lenny leblanc lincoln brewster paul baloche'),\n",
      "    (63.14285714285714, 'steve esterfern ty cutta bink lt moe tone mason'),\n",
      "    (   61.93073593073593,\n",
      "        'casey royer ); former agent orange bassist steve soto'),\n",
      "    (61.5, 'neptunes scott storch vinnie biggs leroy precise edwards'),\n",
      "    (   61.151048951048956,\n",
      "        'producers including mobb deep cormega pete rock dj premier mc'),\n",
      "    (57.33333333333333, '鳥山明 ザ ・ ワールド toriyama akira za wārudo'),\n",
      "    (   54.80952380952381,\n",
      "        'malford milligan sonny landreth steve miller jimmie vaughan'),\n",
      "    (   53.21814264167205,\n",
      "        'album cover shows stevens spoofing french emperor napoleon bonaparte'),\n",
      "    (   51.64705882352941,\n",
      "        'physics club thesmittens bunnygrunt hot lava darren hanlon'),\n",
      "    (50.33748417236764, 'san francisco bay area pop punk band limp released'),\n",
      "    (50.17222222222222, 'former miami sound machine member emilio estefan jr'),\n",
      "    (   49.073076923076925,\n",
      "        'second album creative differences forced member che ness'),\n",
      "    (48.743589743589745, 'l ’ ecole nationale de musique villeurbanne france')]\n"
     ]
    }
   ],
   "source": [
    "get_top_phrases(data, max_length=15)"
   ]
  },
  {
   "cell_type": "code",
   "execution_count": 59,
   "metadata": {},
   "outputs": [
    {
     "name": "stdout",
     "output_type": "stream",
     "text": [
      "    Label                      Name  \\\n",
      "7       1  Milestones Grill and Bar   \n",
      "11      1              CREDO Mobile   \n",
      "15      1                  Telewest   \n",
      "28      1     The Monkeys (company)   \n",
      "39      1       Fatso (New Zealand)   \n",
      "\n",
      "                                                 Text  \n",
      "7    Milestones Restaurants Inc. (doing business a...  \n",
      "11   CREDO Mobile (formerly Working Assets Wireles...  \n",
      "15   Telewest formerly Telewest Broadband and Tele...  \n",
      "28   The Monkeys (formerly Three Drunk Monkeys) is...  \n",
      "39   Fatso is an Online DVD and video game rental ...  \n"
     ]
    }
   ],
   "source": [
    "label_of_interest = 1\n",
    "\n",
    "data = get_documents_for_topic(dbpedia_df, label_of_interest)"
   ]
  },
  {
   "cell_type": "code",
   "execution_count": 60,
   "metadata": {},
   "outputs": [
    {
     "name": "stdout",
     "output_type": "stream",
     "text": [
      "[   (   152.1341935483871,\n",
      "        'products include vyvanse adderall xr intuniv lialda pentasa fosrenol '\n",
      "        'replagal elaprase vpriv firazyr'),\n",
      "    (144.0, 'வர ை யற ு க ் கப ் பட ் டத ு))'),\n",
      "    (   118.33333333333333,\n",
      "        'оао « авиакомпания « домодедовские авиалинии » oao aviakompaniya '\n",
      "        'domodedovskiye avialinii'),\n",
      "    (   112.56994047619048,\n",
      "        'prominent british hip hop artist roots manuva mercury prize winner '\n",
      "        'speech debelle'),\n",
      "    (   105.27458000562532,\n",
      "        'artist management company whose clients include animal collective '\n",
      "        'avey tare bear mountain chromeo'),\n",
      "    (   102.58434343434344,\n",
      "        'lost film scores unreleased tv music library music old advertising '\n",
      "        'jingles art sexploitation'),\n",
      "    (   94.0,\n",
      "        'exhumed insect warfare lets grow iron lung threatener hatred surge'),\n",
      "    (   90.46896430592082,\n",
      "        'daily news coverage includes international headline news business '\n",
      "        'entertainment celebrity gossip sports technology health'),\n",
      "    (   89.83222222222221,\n",
      "        'targeted diseases include type 1 diabetes rheumatoid arthritis '\n",
      "        'inflammatory bowel disease'),\n",
      "    (   89.32628143133462,\n",
      "        'top national brands including amc theatres disney bass pro shops '\n",
      "        'union pacific'),\n",
      "    (   88.16666666666666,\n",
      "        'nba disney busch gardens six flags miss universe nbc abc'),\n",
      "    (   82.97782804363705,\n",
      "        'analysis solutions including airline passenger screening insider '\n",
      "        'trading discovery banking compliance insurance'),\n",
      "    (   81.58375892992855,\n",
      "        'video recording licensing concert organiser artiste management '\n",
      "        'professional rehearsal room rental'),\n",
      "    (   75.92307692307692,\n",
      "        'felipe rodriquez rop gonggrijp paul jongsma en cor bosman'),\n",
      "    (   75.625,\n",
      "        'content includes concerts music videos lyric videos interviews music '\n",
      "        'documentaries'),\n",
      "    (   74.08333333333334,\n",
      "        'hamid drake kneebody michael bates curtis macdonald linda oh'),\n",
      "    (   73.33264604810996,\n",
      "        'tsim sha tsui properties limited sino land company limited sino '\n",
      "        'hotels'),\n",
      "    (   71.69519899038376,\n",
      "        'offers online gambling services including sports betting online '\n",
      "        'casino games online bingo'),\n",
      "    (   66.55645161290323,\n",
      "        'survey asks questions covering consumer attitudes motivations media '\n",
      "        'habits'),\n",
      "    (   63.45820433436533,\n",
      "        'visually appealing early 3d fighting games criticom dark rift')]\n"
     ]
    }
   ],
   "source": [
    "get_top_phrases(data, max_length=15)"
   ]
  },
  {
   "cell_type": "code",
   "execution_count": null,
   "metadata": {},
   "outputs": [],
   "source": []
  },
  {
   "cell_type": "code",
   "execution_count": null,
   "metadata": {},
   "outputs": [],
   "source": []
  }
 ],
 "metadata": {
  "kernelspec": {
   "display_name": "Python 3",
   "language": "python",
   "name": "python3"
  },
  "language_info": {
   "codemirror_mode": {
    "name": "ipython",
    "version": 3
   },
   "file_extension": ".py",
   "mimetype": "text/x-python",
   "name": "python",
   "nbconvert_exporter": "python",
   "pygments_lexer": "ipython3",
   "version": "3.6.9"
  }
 },
 "nbformat": 4,
 "nbformat_minor": 2
}
